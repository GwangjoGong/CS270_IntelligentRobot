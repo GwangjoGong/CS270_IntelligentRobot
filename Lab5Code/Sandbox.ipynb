{
 "cells": [
  {
   "cell_type": "code",
   "execution_count": 28,
   "metadata": {},
   "outputs": [],
   "source": [
    "import matplotlib.pyplot as plt\n",
    "import datetime as datetime\n",
    "import numpy as np"
   ]
  },
  {
   "cell_type": "code",
   "execution_count": 6,
   "metadata": {},
   "outputs": [],
   "source": [
    "def log():\n",
    "\t# read file into string\n",
    "\twith open('rl_template.py', 'r') as inputfile:\n",
    "\t\ttextstr = inputfile.read()\n",
    "\t\tfn = datetime.datetime.now().strftime('%Y-%m-%d_%H-%M-%S') + \".txt\"\n",
    "\t\t\n",
    "\t\twith open(\"logs/\"+fn, 'w') as outputfile:\n",
    "\t\t\toutputfile.write(textstr)\n"
   ]
  },
  {
   "cell_type": "code",
   "execution_count": 92,
   "metadata": {},
   "outputs": [
    {
     "name": "stdout",
     "output_type": "stream",
     "text": [
      "[0, -0.9985111814451271, -1.9925559072256354, -2.980378150034463, -3.962779536128177, -4.94088669950739, -5.9018907501723135, -6.836860504005515, -7.813897680640883, -8.777511607196796, -9.704433497536947, -10.609447544979982, -11.509453750861564, -12.198808945156102, -13.184302520027572, -14.152709359605911, -15.069488403204412, -16.022009285757438, -16.887558035983986, -17.559047156124883, -18.52216748768473, -19.41760742860595, -20.047237724899908, -20.934085942884764, -21.54726875430781, -21.0, -21.99404472578051, -22.97022362890254, -23.921512600137852, -24.851118144512707, -25.76354679802956, -26.60756300068925, -27.347442016022057, -28.255590722563532, -29.110046428787186, -29.817733990147783, -30.437790179919926, -31.037815003446248, -30.79523578062441, -31.737210080110284, -32.610837438423644, -33.27795361281765, -34.08803714302975, -34.550232143935936, -34.236188624499526, -35.08866995073892, -35.670429714423804, -35.188950899599625, -35.73634377153905, -35.18907501723124, -30.0, -30.99404472578051, -31.970223628902538, -32.92151260013785, -33.85111814451271, -34.76354679802956, -35.607563000689254, -36.34744201602206, -37.25559072256353, -38.110046428787186, -38.81773399014779, -39.43779017991993, -40.03781500344625, -39.79523578062441, -40.73721008011028, -41.610837438423644, -42.27795361281765, -43.08803714302975, -43.55023214393594, -43.236188624499526, -44.08866995073892, -44.670429714423804, -44.188950899599625, -44.73634377153904, -44.18907501723123, -39.0, -39.97617890312203, -40.880894515610166, -41.6860504005514, -42.40447257805082, -43.054187192118235, -43.430252002757, -43.38976806408822, -44.022362890254115, -44.44018571514876, -44.27093596059114, -43.751160719679696, -43.151260013784984, -39.18094312249763, -39.94884032044112, -40.44334975369459, -40.11181445127058, -40.352148572119006, -39.20092857574376, -34.944754497998105, -35.35467980295567, -34.68171885769521, -29.755803598398483, -28.94537508615617, -23.756300068924936, 0]\n",
      "[0, 1, 2, 3, 4, 5, 6, 7, 8, 9, 10, 11, 12, 13, 11, 10, 9, 8, 7, 6, 5, 21, 3, 2, 1, 25, 24, 23, 3, 4, 5, 6, 7, 8, 9, 15, 11, 13, 38, 11, 10, 9, 8, 43, 44, 5, 4, 3, 2, 1, 50, 1, 48, 3, 4, 5, 6, 7, 8, 41, 10, 11, 12, 12, 36, 10, 9, 8, 7, 19, 5, 4, 3, 2, 1, 25, 1, 2, 3, 4, 5, 6, 18, 8, 9, 10, 11, 13, 12, 11, 10, 9, 8, 7, 6, 5, 4, 3, 2, 1, 0]\n"
     ]
    }
   ],
   "source": [
    "N     = 100  # The goal for truly winning\n",
    "p     = 0.25 # Probability of winning one bet\n",
    "gamma = 1    # discount factor\n",
    "\n",
    "states          = [i for i in range(1, N)]   # The states of the game when defined as a Markov Decision Process.\n",
    "\t\t\t\t\t\t\t\t\t\t\t # states[x] represents the state of currently having x chips.\n",
    "v               = [0 for i in range(0, N+1)] # The current state value function. v[x] is the value of state x.\n",
    "optimal_actions = [0 for i in range(0, N+1)] # List to represent optimal policy. \n",
    "\t\t\t\t\t\t\t\t\t\t\t # optimal_actions[x] should equal the optimal number of \n",
    "\t\t\t\t\t\t\t\t\t\t\t # coins to bet when you currently have x chips (you're in state x).\n",
    "\n",
    "\t\t\t\t\t\t\t\t\t\t\t # For both v and optimal_actions, if x == 0 or N, v[x] = optimal_actions[x] = 0.\n",
    "\n",
    "            \n",
    "### Implement value iteration here ###\n",
    "\n",
    "k = 0\n",
    "\n",
    "while True:\n",
    "    old_v = v[:]\n",
    "    for i in range(len(states)):\n",
    "        state = states[i]\n",
    "        threshold = min(state, 100 - state)\n",
    "        values = []\n",
    "        for bet in range(1, threshold+1):\n",
    "            # 1/4 -> state + bet || 3/4 -> state - bet\n",
    "            # |reward| -> bet \n",
    "            value = (1/5) * (bet + gamma * v[state+bet]) + (4/5) * (gamma * v[state-bet] - bet)\n",
    "            values.append(value)\n",
    "            \n",
    "        v[state] = np.max(values)\n",
    "        \n",
    "    if v == old_v:\n",
    "        break\n",
    "    k += 1\n",
    "    \n",
    "print(v)\n",
    "    \n",
    "for i in range(len(states)):\n",
    "    state = states[i]\n",
    "    threshold = min(state, 100 - state)\n",
    "    args = []\n",
    "    bets = []\n",
    "    for bet in range(1, threshold+1):\n",
    "        # 1/4 -> state + bet || 3/4 -> state - bet\n",
    "        value = (1/5) * (bet + gamma * v[state+bet]) + (4/5) * (gamma * v[state-bet] - bet)\n",
    "        args.append(value)\n",
    "        bets.append(bet)\n",
    "    optimal_actions[state] = bets[np.argmax(args)]\n",
    "print(optimal_actions)\n",
    "    "
   ]
  },
  {
   "cell_type": "code",
   "execution_count": 93,
   "metadata": {},
   "outputs": [
    {
     "data": {
      "text/plain": [
       "37"
      ]
     },
     "execution_count": 93,
     "metadata": {},
     "output_type": "execute_result"
    }
   ],
   "source": [
    "k"
   ]
  },
  {
   "cell_type": "code",
   "execution_count": 94,
   "metadata": {},
   "outputs": [
    {
     "data": {
      "image/png": "[encoded data removed]",
      "text/plain": [
       "<Figure size 432x288 with 1 Axes>"
      ]
     },
     "metadata": {
      "needs_background": "light"
     },
     "output_type": "display_data"
    },
    {
     "data": {
      "image/png": "[encoded data removed]",
      "text/plain": [
       "<Figure size 432x288 with 1 Axes>"
      ]
     },
     "metadata": {
      "needs_background": "light"
     },
     "output_type": "display_data"
    }
   ],
   "source": [
    "#log()\n",
    "\n",
    "fig = plt.figure()\n",
    "plt.plot(states, v[1:-1])\n",
    "plt.show()\n",
    "\n",
    "# Plot optimal policy for every state\n",
    "plt.scatter(states, optimal_actions[1:-1])\n",
    "plt.show()"
   ]
  },
  {
   "cell_type": "code",
   "execution_count": null,
   "metadata": {},
   "outputs": [],
   "source": []
  }
 ],
 "metadata": {
  "kernelspec": {
   "display_name": "Python 3.7.7 64-bit",
   "language": "python",
   "name": "python37764bitfb6e18ab0d884447a8345b905725e7e1"
  },
  "language_info": {
   "codemirror_mode": {
    "name": "ipython",
    "version": 3
   },
   "file_extension": ".py",
   "mimetype": "text/x-python",
   "name": "python",
   "nbconvert_exporter": "python",
   "pygments_lexer": "ipython3",
   "version": "3.7.7"
  }
 },
 "nbformat": 4,
 "nbformat_minor": 4
}
