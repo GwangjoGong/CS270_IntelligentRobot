{
 "cells": [
  {
   "cell_type": "code",
   "execution_count": 47,
   "metadata": {},
   "outputs": [],
   "source": [
    "import pickle\n",
    "import matplotlib.pyplot as plt\n",
    "import numpy as np"
   ]
  },
  {
   "cell_type": "code",
   "execution_count": 36,
   "metadata": {},
   "outputs": [],
   "source": [
    "with open(\"./dataset/data_batch_1\", 'rb') as fo:\n",
    "        dict_1 = pickle.load(fo, encoding='bytes')"
   ]
  },
  {
   "cell_type": "code",
   "execution_count": 37,
   "metadata": {},
   "outputs": [],
   "source": [
    "with open(\"./dataset/data_batch_2\", 'rb') as fo:\n",
    "        dict_2 = pickle.load(fo, encoding='bytes')"
   ]
  },
  {
   "cell_type": "code",
   "execution_count": 38,
   "metadata": {},
   "outputs": [],
   "source": [
    "with open(\"./dataset/data_batch_3\", 'rb') as fo:\n",
    "        dict_3 = pickle.load(fo, encoding='bytes')"
   ]
  },
  {
   "cell_type": "code",
   "execution_count": 39,
   "metadata": {},
   "outputs": [],
   "source": [
    "with open(\"./dataset/data_batch_4\", 'rb') as fo:\n",
    "        dict_4 = pickle.load(fo, encoding='bytes')"
   ]
  },
  {
   "cell_type": "code",
   "execution_count": 40,
   "metadata": {},
   "outputs": [],
   "source": [
    "with open(\"./dataset/data_batch_5\", 'rb') as fo:\n",
    "        dict_5 = pickle.load(fo, encoding='bytes')"
   ]
  },
  {
   "cell_type": "code",
   "execution_count": 19,
   "metadata": {},
   "outputs": [
    {
     "data": {
      "text/plain": [
       "b'training batch 1 of 5'"
      ]
     },
     "execution_count": 19,
     "metadata": {},
     "output_type": "execute_result"
    }
   ],
   "source": [
    "def filter_dict(dict):\n",
    "    labels = []\n",
    "    data = []\n",
    "    filenames = []\n",
    "    for idx, label in enumerate(dict[b'labels']):\n",
    "        if label == 1 or label == 5:\n",
    "            labels.append(label)\n",
    "            data.append(dict[b'data'][idx])\n",
    "            filenames.append(dict[b'filenames'][idx])\n",
    "\n",
    "    dict[b'labels'] = labels\n",
    "    dict[b'data'] = data\n",
    "    dict[b'filenames'] = filenames"
   ]
  },
  {
   "cell_type": "code",
   "execution_count": 41,
   "metadata": {},
   "outputs": [],
   "source": [
    "filter_dict(dict_1)\n",
    "filter_dict(dict_2)\n",
    "filter_dict(dict_3)\n",
    "filter_dict(dict_4)\n",
    "filter_dict(dict_5)"
   ]
  },
  {
   "cell_type": "code",
   "execution_count": 48,
   "metadata": {},
   "outputs": [],
   "source": [
    "data = np.vstack(dict_1[b'data']).reshape(-1, 3, 32, 32)"
   ]
  },
  {
   "cell_type": "code",
   "execution_count": 57,
   "metadata": {},
   "outputs": [
    {
     "data": {
      "text/plain": [
       "array([[198, 196, 203, ..., 215, 214, 212],\n",
       "       [198, 201, 200, ..., 212, 211, 209],\n",
       "       [186, 181, 162, ..., 214, 212, 209],\n",
       "       ...,\n",
       "       [ 80,  81,  82, ...,  78,  75,  68],\n",
       "       [ 77,  78,  78, ...,  83,  78,  78],\n",
       "       [ 78,  79,  76, ...,  82,  78,  80]], dtype=uint8)"
      ]
     },
     "execution_count": 57,
     "metadata": {},
     "output_type": "execute_result"
    }
   ],
   "source": [
    "data[0][2]"
   ]
  },
  {
   "cell_type": "code",
   "execution_count": 34,
   "metadata": {},
   "outputs": [],
   "source": []
  },
  {
   "cell_type": "code",
   "execution_count": null,
   "metadata": {},
   "outputs": [],
   "source": []
  },
  {
   "cell_type": "code",
   "execution_count": 27,
   "metadata": {},
   "outputs": [],
   "source": []
  },
  {
   "cell_type": "code",
   "execution_count": null,
   "metadata": {},
   "outputs": [],
   "source": []
  }
 ],
 "metadata": {
  "kernelspec": {
   "display_name": "Python 3.7.7 64-bit",
   "language": "python",
   "name": "python37764bitfb6e18ab0d884447a8345b905725e7e1"
  },
  "language_info": {
   "codemirror_mode": {
    "name": "ipython",
    "version": 3
   },
   "file_extension": ".py",
   "mimetype": "text/x-python",
   "name": "python",
   "nbconvert_exporter": "python",
   "pygments_lexer": "ipython3",
   "version": "3.7.7"
  }
 },
 "nbformat": 4,
 "nbformat_minor": 2
}
